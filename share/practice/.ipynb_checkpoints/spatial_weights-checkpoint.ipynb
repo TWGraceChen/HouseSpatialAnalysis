{
 "cells": [
  {
   "cell_type": "markdown",
   "id": "polished-scotland",
   "metadata": {},
   "source": [
    "https://geographicdata.science/book/notebooks/04_spatial_weights.html"
   ]
  },
  {
   "cell_type": "code",
   "execution_count": 1,
   "id": "north-fiction",
   "metadata": {},
   "outputs": [],
   "source": [
    "import contextily\n",
    "import geopandas\n",
    "import rioxarray\n",
    "import seaborn\n",
    "import pandas \n",
    "import numpy\n",
    "import matplotlib.pyplot as plt\n",
    "from shapely.geometry import Polygon\n",
    "from pysal.lib import cg as geometry"
   ]
  },
  {
   "cell_type": "markdown",
   "id": "quiet-supervision",
   "metadata": {},
   "source": [
    "# Spatial Weights空間權重"
   ]
  },
  {
   "cell_type": "code",
   "execution_count": 5,
   "id": "monthly-venezuela",
   "metadata": {},
   "outputs": [],
   "source": [
    "from pysal.lib import weights"
   ]
  },
  {
   "cell_type": "markdown",
   "id": "empirical-daughter",
   "metadata": {},
   "source": [
    "## Contiguity Weights 鄰接權重"
   ]
  },
  {
   "cell_type": "code",
   "execution_count": 10,
   "id": "handmade-carter",
   "metadata": {
    "caption": "A three-by-three grid of squares.",
    "tags": [
     "hide-input"
    ]
   },
   "outputs": [],
   "source": [
    "# Get points in a grid\n",
    "l = numpy.arange(3)\n",
    "xs, ys = numpy.meshgrid(l, l)\n",
    "# Set up store\n",
    "polys = []\n",
    "# Generate polygons\n",
    "for x, y in zip(xs.flatten(), ys.flatten()):\n",
    "    poly = Polygon([(x, y), (x+1, y), (x+1, y+1), (x, y+1)])\n",
    "    polys.append(poly)\n",
    "# Convert to GeoSeries\n",
    "polys = geopandas.GeoSeries(polys)\n",
    "gdf = geopandas.GeoDataFrame(\n",
    "    {\n",
    "        'geometry': polys, \n",
    "        'id': ['P-%s'%str(i).zfill(2) for i in range(len(polys))]\n",
    "    }\n",
    ")"
   ]
  },
  {
   "cell_type": "code",
   "execution_count": 11,
   "id": "ancient-discrimination",
   "metadata": {},
   "outputs": [
    {
     "data": {
      "image/png": "[encoded data removed]",
      "text/plain": [
       "<Figure size 432x288 with 1 Axes>"
      ]
     },
     "metadata": {
      "needs_background": "light"
     },
     "output_type": "display_data"
    }
   ],
   "source": [
    "# Plot grid geotable\n",
    "ax = gdf.plot(facecolor='w', edgecolor='k')\n",
    "\n",
    "# Loop over each cell and add the text\n",
    "for x, y, t in zip(\n",
    "    [p.centroid.x-.25 for p in polys],\n",
    "    [p.centroid.y-.25 for p in polys],\n",
    "    [i for i in gdf['id']]\n",
    "):\n",
    "    plt.text(\n",
    "        x, y, t, verticalalignment='center', horizontalalignment='center'\n",
    "    )\n",
    "    \n",
    "# Remove axes\n",
    "ax.set_axis_off()\n",
    "plt.show()"
   ]
  },
  {
   "cell_type": "markdown",
   "id": "photographic-width",
   "metadata": {},
   "source": [
    "### Rook:多邊形共用同一個邊"
   ]
  },
  {
   "cell_type": "code",
   "execution_count": 12,
   "id": "actual-attack",
   "metadata": {},
   "outputs": [],
   "source": [
    "# Build a regular 3x3 lattice and draw it here\n",
    "wr = weights.contiguity.Rook.from_dataframe(gdf)"
   ]
  },
  {
   "cell_type": "code",
   "execution_count": 20,
   "id": "composite-louisville",
   "metadata": {},
   "outputs": [
    {
     "data": {
      "image/png": "[encoded data removed]",
      "text/plain": [
       "<Figure size 432x288 with 1 Axes>"
      ]
     },
     "metadata": {
      "needs_background": "light"
     },
     "output_type": "display_data"
    }
   ],
   "source": [
    "# Set up figure\n",
    "f,ax = plt.subplots(1,1, subplot_kw=dict(aspect='equal'))\n",
    "# Plot grid\n",
    "gdf.plot(facecolor='w', edgecolor='k', ax=ax)\n",
    "# Loop over each cell and add the text\n",
    "for x, y, t in zip(\n",
    "    [p.centroid.x-.25 for p in polys],\n",
    "    [p.centroid.y-.25 for p in polys],\n",
    "    [i for i in gdf['id']]\n",
    "):\n",
    "    plt.text(\n",
    "        x, y, t, verticalalignment='center', horizontalalignment='center'\n",
    "    )\n",
    "# Plot weights connectivity\n",
    "wr.plot(gdf, edge_kws=dict(color='r', linestyle=':'), ax =ax)\n",
    "# Remove axes\n",
    "ax.set_axis_off()"
   ]
  },
  {
   "cell_type": "code",
   "execution_count": 13,
   "id": "engaged-weather",
   "metadata": {},
   "outputs": [
    {
     "data": {
      "text/plain": [
       "{0: [1, 3],\n",
       " 1: [0, 2, 4],\n",
       " 2: [1, 5],\n",
       " 3: [0, 4, 6],\n",
       " 4: [1, 3, 5, 7],\n",
       " 5: [8, 2, 4],\n",
       " 6: [3, 7],\n",
       " 7: [8, 4, 6],\n",
       " 8: [5, 7]}"
      ]
     },
     "execution_count": 13,
     "metadata": {},
     "output_type": "execute_result"
    }
   ],
   "source": [
    "wr.neighbors"
   ]
  },
  {
   "cell_type": "code",
   "execution_count": 16,
   "id": "white-artwork",
   "metadata": {},
   "outputs": [
    {
     "data": {
      "text/html": [
       "<div>\n",
       "<style scoped>\n",
       "    .dataframe tbody tr th:only-of-type {\n",
       "        vertical-align: middle;\n",
       "    }\n",
       "\n",
       "    .dataframe tbody tr th {\n",
       "        vertical-align: top;\n",
       "    }\n",
       "\n",
       "    .dataframe thead th {\n",
       "        text-align: right;\n",
       "    }\n",
       "</style>\n",
       "<table border=\"1\" class=\"dataframe\">\n",
       "  <thead>\n",
       "    <tr style=\"text-align: right;\">\n",
       "      <th></th>\n",
       "      <th>0</th>\n",
       "      <th>1</th>\n",
       "      <th>2</th>\n",
       "      <th>3</th>\n",
       "      <th>4</th>\n",
       "      <th>5</th>\n",
       "      <th>6</th>\n",
       "      <th>7</th>\n",
       "      <th>8</th>\n",
       "    </tr>\n",
       "  </thead>\n",
       "  <tbody>\n",
       "    <tr>\n",
       "      <th>0</th>\n",
       "      <td>0</td>\n",
       "      <td>1</td>\n",
       "      <td>0</td>\n",
       "      <td>1</td>\n",
       "      <td>0</td>\n",
       "      <td>0</td>\n",
       "      <td>0</td>\n",
       "      <td>0</td>\n",
       "      <td>0</td>\n",
       "    </tr>\n",
       "    <tr>\n",
       "      <th>1</th>\n",
       "      <td>1</td>\n",
       "      <td>0</td>\n",
       "      <td>1</td>\n",
       "      <td>0</td>\n",
       "      <td>1</td>\n",
       "      <td>0</td>\n",
       "      <td>0</td>\n",
       "      <td>0</td>\n",
       "      <td>0</td>\n",
       "    </tr>\n",
       "    <tr>\n",
       "      <th>2</th>\n",
       "      <td>0</td>\n",
       "      <td>1</td>\n",
       "      <td>0</td>\n",
       "      <td>0</td>\n",
       "      <td>0</td>\n",
       "      <td>1</td>\n",
       "      <td>0</td>\n",
       "      <td>0</td>\n",
       "      <td>0</td>\n",
       "    </tr>\n",
       "    <tr>\n",
       "      <th>3</th>\n",
       "      <td>1</td>\n",
       "      <td>0</td>\n",
       "      <td>0</td>\n",
       "      <td>0</td>\n",
       "      <td>1</td>\n",
       "      <td>0</td>\n",
       "      <td>1</td>\n",
       "      <td>0</td>\n",
       "      <td>0</td>\n",
       "    </tr>\n",
       "    <tr>\n",
       "      <th>4</th>\n",
       "      <td>0</td>\n",
       "      <td>1</td>\n",
       "      <td>0</td>\n",
       "      <td>1</td>\n",
       "      <td>0</td>\n",
       "      <td>1</td>\n",
       "      <td>0</td>\n",
       "      <td>1</td>\n",
       "      <td>0</td>\n",
       "    </tr>\n",
       "    <tr>\n",
       "      <th>5</th>\n",
       "      <td>0</td>\n",
       "      <td>0</td>\n",
       "      <td>1</td>\n",
       "      <td>0</td>\n",
       "      <td>1</td>\n",
       "      <td>0</td>\n",
       "      <td>0</td>\n",
       "      <td>0</td>\n",
       "      <td>1</td>\n",
       "    </tr>\n",
       "    <tr>\n",
       "      <th>6</th>\n",
       "      <td>0</td>\n",
       "      <td>0</td>\n",
       "      <td>0</td>\n",
       "      <td>1</td>\n",
       "      <td>0</td>\n",
       "      <td>0</td>\n",
       "      <td>0</td>\n",
       "      <td>1</td>\n",
       "      <td>0</td>\n",
       "    </tr>\n",
       "    <tr>\n",
       "      <th>7</th>\n",
       "      <td>0</td>\n",
       "      <td>0</td>\n",
       "      <td>0</td>\n",
       "      <td>0</td>\n",
       "      <td>1</td>\n",
       "      <td>0</td>\n",
       "      <td>1</td>\n",
       "      <td>0</td>\n",
       "      <td>1</td>\n",
       "    </tr>\n",
       "    <tr>\n",
       "      <th>8</th>\n",
       "      <td>0</td>\n",
       "      <td>0</td>\n",
       "      <td>0</td>\n",
       "      <td>0</td>\n",
       "      <td>0</td>\n",
       "      <td>1</td>\n",
       "      <td>0</td>\n",
       "      <td>1</td>\n",
       "      <td>0</td>\n",
       "    </tr>\n",
       "  </tbody>\n",
       "</table>\n",
       "</div>"
      ],
      "text/plain": [
       "   0  1  2  3  4  5  6  7  8\n",
       "0  0  1  0  1  0  0  0  0  0\n",
       "1  1  0  1  0  1  0  0  0  0\n",
       "2  0  1  0  0  0  1  0  0  0\n",
       "3  1  0  0  0  1  0  1  0  0\n",
       "4  0  1  0  1  0  1  0  1  0\n",
       "5  0  0  1  0  1  0  0  0  1\n",
       "6  0  0  0  1  0  0  0  1  0\n",
       "7  0  0  0  0  1  0  1  0  1\n",
       "8  0  0  0  0  0  1  0  1  0"
      ]
     },
     "execution_count": 16,
     "metadata": {},
     "output_type": "execute_result"
    }
   ],
   "source": [
    "pandas.DataFrame(*wr.full()).astype(int)"
   ]
  },
  {
   "cell_type": "code",
   "execution_count": 17,
   "id": "phantom-application",
   "metadata": {},
   "outputs": [
    {
     "data": {
      "text/plain": [
       "24"
      ]
     },
     "execution_count": 17,
     "metadata": {},
     "output_type": "execute_result"
    }
   ],
   "source": [
    "# 計算非0的數量\n",
    "wr.nonzero"
   ]
  },
  {
   "cell_type": "markdown",
   "id": "optimum-angola",
   "metadata": {},
   "source": [
    "### Queen:多邊形共用一個或多個點"
   ]
  },
  {
   "cell_type": "code",
   "execution_count": 21,
   "id": "minimal-honduras",
   "metadata": {},
   "outputs": [],
   "source": [
    "# Build a regular 3x3 lattice and draw it here\n",
    "wq = weights.contiguity.Queen.from_dataframe(gdf)"
   ]
  },
  {
   "cell_type": "code",
   "execution_count": 22,
   "id": "gothic-portuguese",
   "metadata": {},
   "outputs": [
    {
     "data": {
      "image/png": "[encoded data removed]",
      "text/plain": [
       "<Figure size 432x288 with 1 Axes>"
      ]
     },
     "metadata": {
      "needs_background": "light"
     },
     "output_type": "display_data"
    }
   ],
   "source": [
    "# Set up figure\n",
    "f,ax = plt.subplots(1,1, subplot_kw=dict(aspect='equal'))\n",
    "# Plot grid\n",
    "gdf.plot(facecolor='w', edgecolor='k', ax=ax)\n",
    "# Loop over each cell and add the text\n",
    "for x, y, t in zip(\n",
    "    [p.centroid.x-.25 for p in polys],\n",
    "    [p.centroid.y-.25 for p in polys],\n",
    "    [i for i in gdf['id']]\n",
    "):\n",
    "    plt.text(\n",
    "        x, y, t, verticalalignment='center', horizontalalignment='center'\n",
    "    )\n",
    "# Plot weights connectivity\n",
    "wq.plot(gdf, edge_kws=dict(color='r', linestyle=':'), ax =ax)\n",
    "# Remove axes\n",
    "ax.set_axis_off()"
   ]
  },
  {
   "cell_type": "code",
   "execution_count": 23,
   "id": "premier-jacksonville",
   "metadata": {},
   "outputs": [
    {
     "data": {
      "text/plain": [
       "{0: [1, 3, 4],\n",
       " 1: [0, 2, 3, 4, 5],\n",
       " 2: [1, 4, 5],\n",
       " 3: [0, 1, 4, 6, 7],\n",
       " 4: [0, 1, 2, 3, 5, 6, 7, 8],\n",
       " 5: [1, 2, 4, 7, 8],\n",
       " 6: [3, 4, 7],\n",
       " 7: [3, 4, 5, 6, 8],\n",
       " 8: [4, 5, 7]}"
      ]
     },
     "execution_count": 23,
     "metadata": {},
     "output_type": "execute_result"
    }
   ],
   "source": [
    "wq.neighbors"
   ]
  },
  {
   "cell_type": "code",
   "execution_count": 24,
   "id": "realistic-senator",
   "metadata": {},
   "outputs": [
    {
     "data": {
      "text/html": [
       "<div>\n",
       "<style scoped>\n",
       "    .dataframe tbody tr th:only-of-type {\n",
       "        vertical-align: middle;\n",
       "    }\n",
       "\n",
       "    .dataframe tbody tr th {\n",
       "        vertical-align: top;\n",
       "    }\n",
       "\n",
       "    .dataframe thead th {\n",
       "        text-align: right;\n",
       "    }\n",
       "</style>\n",
       "<table border=\"1\" class=\"dataframe\">\n",
       "  <thead>\n",
       "    <tr style=\"text-align: right;\">\n",
       "      <th></th>\n",
       "      <th>0</th>\n",
       "      <th>1</th>\n",
       "      <th>2</th>\n",
       "      <th>3</th>\n",
       "      <th>4</th>\n",
       "      <th>5</th>\n",
       "      <th>6</th>\n",
       "      <th>7</th>\n",
       "      <th>8</th>\n",
       "    </tr>\n",
       "  </thead>\n",
       "  <tbody>\n",
       "    <tr>\n",
       "      <th>0</th>\n",
       "      <td>0</td>\n",
       "      <td>1</td>\n",
       "      <td>0</td>\n",
       "      <td>1</td>\n",
       "      <td>1</td>\n",
       "      <td>0</td>\n",
       "      <td>0</td>\n",
       "      <td>0</td>\n",
       "      <td>0</td>\n",
       "    </tr>\n",
       "    <tr>\n",
       "      <th>1</th>\n",
       "      <td>1</td>\n",
       "      <td>0</td>\n",
       "      <td>1</td>\n",
       "      <td>1</td>\n",
       "      <td>1</td>\n",
       "      <td>1</td>\n",
       "      <td>0</td>\n",
       "      <td>0</td>\n",
       "      <td>0</td>\n",
       "    </tr>\n",
       "    <tr>\n",
       "      <th>2</th>\n",
       "      <td>0</td>\n",
       "      <td>1</td>\n",
       "      <td>0</td>\n",
       "      <td>0</td>\n",
       "      <td>1</td>\n",
       "      <td>1</td>\n",
       "      <td>0</td>\n",
       "      <td>0</td>\n",
       "      <td>0</td>\n",
       "    </tr>\n",
       "    <tr>\n",
       "      <th>3</th>\n",
       "      <td>1</td>\n",
       "      <td>1</td>\n",
       "      <td>0</td>\n",
       "      <td>0</td>\n",
       "      <td>1</td>\n",
       "      <td>0</td>\n",
       "      <td>1</td>\n",
       "      <td>1</td>\n",
       "      <td>0</td>\n",
       "    </tr>\n",
       "    <tr>\n",
       "      <th>4</th>\n",
       "      <td>1</td>\n",
       "      <td>1</td>\n",
       "      <td>1</td>\n",
       "      <td>1</td>\n",
       "      <td>0</td>\n",
       "      <td>1</td>\n",
       "      <td>1</td>\n",
       "      <td>1</td>\n",
       "      <td>1</td>\n",
       "    </tr>\n",
       "    <tr>\n",
       "      <th>5</th>\n",
       "      <td>0</td>\n",
       "      <td>1</td>\n",
       "      <td>1</td>\n",
       "      <td>0</td>\n",
       "      <td>1</td>\n",
       "      <td>0</td>\n",
       "      <td>0</td>\n",
       "      <td>1</td>\n",
       "      <td>1</td>\n",
       "    </tr>\n",
       "    <tr>\n",
       "      <th>6</th>\n",
       "      <td>0</td>\n",
       "      <td>0</td>\n",
       "      <td>0</td>\n",
       "      <td>1</td>\n",
       "      <td>1</td>\n",
       "      <td>0</td>\n",
       "      <td>0</td>\n",
       "      <td>1</td>\n",
       "      <td>0</td>\n",
       "    </tr>\n",
       "    <tr>\n",
       "      <th>7</th>\n",
       "      <td>0</td>\n",
       "      <td>0</td>\n",
       "      <td>0</td>\n",
       "      <td>1</td>\n",
       "      <td>1</td>\n",
       "      <td>1</td>\n",
       "      <td>1</td>\n",
       "      <td>0</td>\n",
       "      <td>1</td>\n",
       "    </tr>\n",
       "    <tr>\n",
       "      <th>8</th>\n",
       "      <td>0</td>\n",
       "      <td>0</td>\n",
       "      <td>0</td>\n",
       "      <td>0</td>\n",
       "      <td>1</td>\n",
       "      <td>1</td>\n",
       "      <td>0</td>\n",
       "      <td>1</td>\n",
       "      <td>0</td>\n",
       "    </tr>\n",
       "  </tbody>\n",
       "</table>\n",
       "</div>"
      ],
      "text/plain": [
       "   0  1  2  3  4  5  6  7  8\n",
       "0  0  1  0  1  1  0  0  0  0\n",
       "1  1  0  1  1  1  1  0  0  0\n",
       "2  0  1  0  0  1  1  0  0  0\n",
       "3  1  1  0  0  1  0  1  1  0\n",
       "4  1  1  1  1  0  1  1  1  1\n",
       "5  0  1  1  0  1  0  0  1  1\n",
       "6  0  0  0  1  1  0  0  1  0\n",
       "7  0  0  0  1  1  1  1  0  1\n",
       "8  0  0  0  0  1  1  0  1  0"
      ]
     },
     "execution_count": 24,
     "metadata": {},
     "output_type": "execute_result"
    }
   ],
   "source": [
    "pandas.DataFrame(*wq.full()).astype(int)"
   ]
  },
  {
   "cell_type": "code",
   "execution_count": 25,
   "id": "elementary-vulnerability",
   "metadata": {},
   "outputs": [
    {
     "data": {
      "text/plain": [
       "40"
      ]
     },
     "execution_count": 25,
     "metadata": {},
     "output_type": "execute_result"
    }
   ],
   "source": [
    "wq.nonzero"
   ]
  },
  {
   "cell_type": "code",
   "execution_count": 28,
   "id": "stuffed-citizen",
   "metadata": {},
   "outputs": [
    {
     "data": {
      "text/plain": [
       "{0: [1.0, 1.0, 1.0],\n",
       " 1: [1.0, 1.0, 1.0, 1.0, 1.0],\n",
       " 2: [1.0, 1.0, 1.0],\n",
       " 3: [1.0, 1.0, 1.0, 1.0, 1.0],\n",
       " 4: [1.0, 1.0, 1.0, 1.0, 1.0, 1.0, 1.0, 1.0],\n",
       " 5: [1.0, 1.0, 1.0, 1.0, 1.0],\n",
       " 6: [1.0, 1.0, 1.0],\n",
       " 7: [1.0, 1.0, 1.0, 1.0, 1.0],\n",
       " 8: [1.0, 1.0, 1.0]}"
      ]
     },
     "execution_count": 28,
     "metadata": {},
     "output_type": "execute_result"
    }
   ],
   "source": [
    "# 權重值和neighbors有一對一的關係\n",
    "wq.weights"
   ]
  },
  {
   "cell_type": "code",
   "execution_count": 29,
   "id": "electric-retirement",
   "metadata": {},
   "outputs": [
    {
     "data": {
      "text/plain": [
       "{0: 3, 1: 5, 2: 3, 3: 5, 4: 8, 5: 5, 6: 3, 7: 5, 8: 3}"
      ]
     },
     "execution_count": 29,
     "metadata": {},
     "output_type": "execute_result"
    }
   ],
   "source": [
    "# 相鄰數\n",
    "wq.cardinalities"
   ]
  },
  {
   "cell_type": "code",
   "execution_count": 32,
   "id": "exposed-sector",
   "metadata": {},
   "outputs": [
    {
     "data": {
      "text/plain": [
       "[(3, 4), (4, 0), (5, 4), (6, 0), (7, 0), (8, 1)]"
      ]
     },
     "execution_count": 32,
     "metadata": {},
     "output_type": "execute_result"
    }
   ],
   "source": [
    "# 次數分配\n",
    "wq.histogram"
   ]
  },
  {
   "cell_type": "code",
   "execution_count": 33,
   "id": "heated-collaboration",
   "metadata": {},
   "outputs": [
    {
     "data": {
      "image/png": "[encoded data removed]",
      "text/plain": [
       "<Figure size 432x288 with 1 Axes>"
      ]
     },
     "metadata": {
      "needs_background": "light"
     },
     "output_type": "display_data"
    }
   ],
   "source": [
    "# 直方圖\n",
    "pandas.Series(wq.cardinalities).plot.hist(color='k');"
   ]
  },
  {
   "cell_type": "code",
   "execution_count": 34,
   "id": "previous-blame",
   "metadata": {},
   "outputs": [
    {
     "data": {
      "text/plain": [
       "40.0"
      ]
     },
     "execution_count": 34,
     "metadata": {},
     "output_type": "execute_result"
    }
   ],
   "source": [
    "# 連接數\n",
    "wq.s0"
   ]
  },
  {
   "cell_type": "code",
   "execution_count": 39,
   "id": "varied-socket",
   "metadata": {},
   "outputs": [
    {
     "data": {
      "text/plain": [
       "49.382716049382715"
      ]
     },
     "execution_count": 39,
     "metadata": {},
     "output_type": "execute_result"
    }
   ],
   "source": [
    "# 連接密度：連接數/空間數^2 = 40 / 9^2\n",
    "wq.pct_nonzero"
   ]
  },
  {
   "cell_type": "markdown",
   "id": "guided-ratio",
   "metadata": {},
   "source": [
    "### Case：census tracts in San Diego, California."
   ]
  },
  {
   "cell_type": "code",
   "execution_count": 44,
   "id": "continued-printing",
   "metadata": {},
   "outputs": [],
   "source": [
    "san_diego_tracts = geopandas.read_file('./data/sandiego/sandiego_tracts.gpkg')\n",
    "w_queen = weights.contiguity.Queen.from_dataframe(san_diego_tracts)"
   ]
  },
  {
   "cell_type": "code",
   "execution_count": 20,
   "id": "organic-congo",
   "metadata": {
    "caption": "The Queen contiguity graph for San Diego tracts. Tracts connected with a red line are neighbors.",
    "lines_to_next_cell": 0,
    "tags": [
     "hide-input"
    ]
   },
   "outputs": [
    {
     "data": {
      "image/png": "[encoded data removed]",
      "text/plain": [
       "<Figure size 432x288 with 1 Axes>"
      ]
     },
     "metadata": {
      "needs_background": "light"
     },
     "output_type": "display_data"
    }
   ],
   "source": [
    "# Plot tract geography\n",
    "f,ax = plt.subplots(1,2,figsize=(8,4))\n",
    "for i in range(2):\n",
    "    ax = san_diego_tracts.plot(edgecolor='k', facecolor='w', ax=ax[i])\n",
    "    # Plot graph connections\n",
    "    w_queen.plot(\n",
    "        san_diego_tracts, \n",
    "        ax=ax[i], \n",
    "        edge_kws=dict(color='r', linestyle=':', linewidth=1),\n",
    "        node_kws=dict(marker='')\n",
    "    )\n",
    "# Remove the axis\n",
    "    ax[i].set_axis_off()\n",
    "ax[1].axis([-13040000,  -13020000, 3850000, 3860000])"
   ]
  },
  {
   "cell_type": "code",
   "execution_count": 60,
   "id": "flexible-control",
   "metadata": {},
   "outputs": [
    {
     "name": "stdout",
     "output_type": "stream",
     "text": [
      "628\n",
      "1.018296888311899\n"
     ]
    },
    {
     "data": {
      "image/png": "[encoded data removed]",
      "text/plain": [
       "<Figure size 432x288 with 1 Axes>"
      ]
     },
     "metadata": {
      "needs_background": "light"
     },
     "output_type": "display_data"
    }
   ],
   "source": [
    "# 空間數\n",
    "print(w_queen.n)\n",
    "# 連接密度\n",
    "print(w_queen.pct_nonzero)\n",
    "# 次數分配\n",
    "s = pandas.Series(w_queen.cardinalities)\n",
    "s.plot.hist(bins=s.unique().shape[0]);"
   ]
  },
  {
   "cell_type": "code",
   "execution_count": 59,
   "id": "rocky-perth",
   "metadata": {},
   "outputs": [],
   "source": [
    "# Rook\n",
    "w_rook = weights.contiguity.Rook.from_dataframe(san_diego_tracts)"
   ]
  },
  {
   "cell_type": "code",
   "execution_count": 61,
   "id": "norwegian-component",
   "metadata": {},
   "outputs": [
    {
     "name": "stdout",
     "output_type": "stream",
     "text": [
      "628\n",
      "0.8722463385938578\n"
     ]
    },
    {
     "data": {
      "image/png": "[encoded data removed]",
      "text/plain": [
       "<Figure size 432x288 with 1 Axes>"
      ]
     },
     "metadata": {
      "needs_background": "light"
     },
     "output_type": "display_data"
    }
   ],
   "source": [
    "# 空間數\n",
    "print(w_rook.n)\n",
    "# 連接密度\n",
    "print(w_rook.pct_nonzero)\n",
    "# 次數分配\n",
    "s = pandas.Series(w_rook.cardinalities)\n",
    "s.plot.hist(bins=s.unique().shape[0]);"
   ]
  },
  {
   "cell_type": "markdown",
   "id": "involved-concentrate",
   "metadata": {},
   "source": [
    "---\n",
    "## Distance Based Weights 基於距離的權重\n",
    "### K-Nearest Neighbor weights"
   ]
  },
  {
   "cell_type": "code",
   "execution_count": 62,
   "id": "dirty-ceiling",
   "metadata": {},
   "outputs": [],
   "source": [
    "# 以多邊形的中心點代表，k=4\n",
    "wk4 = weights.distance.KNN.from_dataframe(san_diego_tracts, k=4)"
   ]
  },
  {
   "cell_type": "code",
   "execution_count": 64,
   "id": "decent-given",
   "metadata": {},
   "outputs": [
    {
     "data": {
      "text/plain": [
       "[]"
      ]
     },
     "execution_count": 64,
     "metadata": {},
     "output_type": "execute_result"
    }
   ],
   "source": [
    "# 沒有孤島問題\n",
    "wk4.islands"
   ]
  },
  {
   "cell_type": "code",
   "execution_count": 67,
   "id": "painful-holiday",
   "metadata": {},
   "outputs": [
    {
     "data": {
      "text/plain": [
       "[(4, 628)]"
      ]
     },
     "execution_count": 67,
     "metadata": {},
     "output_type": "execute_result"
    }
   ],
   "source": [
    "# 每個空間的連接數都是4\n",
    "wk4.histogram"
   ]
  },
  {
   "cell_type": "markdown",
   "id": "accepted-bathroom",
   "metadata": {},
   "source": [
    "### Kernel weights¶"
   ]
  },
  {
   "cell_type": "code",
   "execution_count": 68,
   "id": "national-clearance",
   "metadata": {},
   "outputs": [],
   "source": [
    "w_kernel = weights.distance.Kernel.from_dataframe(gdf)"
   ]
  },
  {
   "cell_type": "code",
   "execution_count": 69,
   "id": "signed-tourism",
   "metadata": {},
   "outputs": [
    {
     "data": {
      "text/plain": [
       "'triangular'"
      ]
     },
     "execution_count": 69,
     "metadata": {},
     "output_type": "execute_result"
    }
   ],
   "source": [
    "# 預設使用triangular\n",
    "# bandwidth distance equal to the maximum knn=2 distance for all observations.\n",
    "w_kernel.function"
   ]
  },
  {
   "cell_type": "code",
   "execution_count": 71,
   "id": "homeless-rating",
   "metadata": {},
   "outputs": [
    {
     "data": {
      "text/plain": [
       "array([[1.0000001],\n",
       "       [1.0000001],\n",
       "       [1.0000001],\n",
       "       [1.0000001],\n",
       "       [1.0000001]])"
      ]
     },
     "execution_count": 71,
     "metadata": {},
     "output_type": "execute_result"
    }
   ],
   "source": [
    "# 帶寬\n",
    "w_kernel.bandwidth[0:5]"
   ]
  },
  {
   "cell_type": "code",
   "execution_count": 73,
   "id": "requested-function",
   "metadata": {},
   "outputs": [
    {
     "data": {
      "image/png": "[encoded data removed]",
      "text/plain": [
       "<Figure size 432x288 with 1 Axes>"
      ]
     },
     "metadata": {
      "needs_background": "light"
     },
     "output_type": "display_data"
    }
   ],
   "source": [
    "# Create subset of tracts\n",
    "sub_30 = san_diego_tracts.query(\"sub_30 == True\")\n",
    "# Plot polygons\n",
    "ax = sub_30.plot(facecolor='w', edgecolor='k')\n",
    "# Create and plot centroids\n",
    "sub_30.head(30).centroid.plot(color='r', ax=ax)\n",
    "# Remove axis\n",
    "ax.set_axis_off();"
   ]
  },
  {
   "cell_type": "code",
   "execution_count": 76,
   "id": "accredited-marketing",
   "metadata": {},
   "outputs": [
    {
     "data": {
      "text/plain": [
       "array([[7065.74020822],\n",
       "       [3577.22591841],\n",
       "       [2989.74807871],\n",
       "       [2891.46196945],\n",
       "       [3965.08354232]])"
      ]
     },
     "execution_count": 76,
     "metadata": {},
     "output_type": "execute_result"
    }
   ],
   "source": [
    "# Build weights with adaptive bandwidth(變動帶寬 fixde=False)\n",
    "w_adaptive = weights.distance.Kernel.from_dataframe(\n",
    "    sub_30,fixed=False, k=15\n",
    ")\n",
    "# Print first five bandwidth values\n",
    "w_adaptive.bandwidth[:5]"
   ]
  },
  {
   "cell_type": "code",
   "execution_count": 77,
   "id": "motivated-converter",
   "metadata": {},
   "outputs": [
    {
     "data": {
      "image/png": "[encoded data removed]",
      "text/plain": [
       "<Figure size 864x432 with 2 Axes>"
      ]
     },
     "metadata": {
      "needs_background": "light"
     },
     "output_type": "display_data"
    }
   ],
   "source": [
    "# Create full matrix version of weights\n",
    "full_matrix, ids = w_adaptive.full()\n",
    "# Set up figure with two subplots in a row\n",
    "f,ax = plt.subplots(\n",
    "    1, 2, figsize=(12,6), subplot_kw=dict(aspect='equal')\n",
    ")\n",
    "# Append weights for first polygon and plot on first subplot\n",
    "sub_30.assign(\n",
    "    weight_0 = full_matrix[0]\n",
    ").plot(\"weight_0\", cmap='plasma', ax=ax[0])\n",
    "# Append weights for 18th polygon and plot on first subplot\n",
    "sub_30.assign(\n",
    "    weight_18 = full_matrix[17]\n",
    ").plot(\"weight_18\", cmap='plasma', ax=ax[1])\n",
    "# Add centroid of focal tracts\n",
    "sub_30.iloc[[0], :].centroid.plot(\n",
    "    ax=ax[0], marker=\"*\", color=\"k\", label='Focal Tract'\n",
    ")\n",
    "sub_30.iloc[[17], :].centroid.plot(\n",
    "    ax=ax[1], marker=\"*\", color=\"k\", label='Focal Tract'\n",
    ")\n",
    "# Add titles\n",
    "ax[0].set_title(\"Kernel centered on first tract\")\n",
    "ax[1].set_title(\"Kernel centered on 18th tract\")\n",
    "# Remove axis\n",
    "[ax_.set_axis_off() for ax_ in ax]\n",
    "# Add legend\n",
    "[ax_.legend(loc='upper left') for ax_ in ax];"
   ]
  },
  {
   "cell_type": "markdown",
   "id": "common-cliff",
   "metadata": {},
   "source": [
    "### Distance bands and hybrid Weights"
   ]
  },
  {
   "cell_type": "code",
   "execution_count": 78,
   "id": "developed-remains",
   "metadata": {},
   "outputs": [],
   "source": [
    "w_bdb = weights.distance.DistanceBand.from_dataframe(\n",
    "    gdf, 1.5, binary=True\n",
    ")"
   ]
  },
  {
   "cell_type": "code",
   "execution_count": 80,
   "id": "confident-reception",
   "metadata": {},
   "outputs": [],
   "source": [
    "w_hy = weights.distance.DistanceBand.from_dataframe(\n",
    "    gdf, 1.5, binary=False\n",
    ")"
   ]
  },
  {
   "cell_type": "code",
   "execution_count": 84,
   "id": "theoretical-process",
   "metadata": {},
   "outputs": [
    {
     "data": {
      "text/plain": [
       "[1.0, 1.0, 1.0, 1.0, 1.0, 1.0, 1.0, 1.0]"
      ]
     },
     "execution_count": 84,
     "metadata": {},
     "output_type": "execute_result"
    }
   ],
   "source": [
    "wq.weights[4]"
   ]
  },
  {
   "cell_type": "code",
   "execution_count": 85,
   "id": "relevant-vector",
   "metadata": {},
   "outputs": [
    {
     "data": {
      "text/plain": [
       "[0.7071067811865475,\n",
       " 1.0,\n",
       " 0.7071067811865475,\n",
       " 1.0,\n",
       " 1.0,\n",
       " 0.7071067811865475,\n",
       " 1.0,\n",
       " 0.7071067811865475]"
      ]
     },
     "execution_count": 85,
     "metadata": {},
     "output_type": "execute_result"
    }
   ],
   "source": [
    "w_hy.weights[4]"
   ]
  },
  {
   "cell_type": "code",
   "execution_count": null,
   "id": "novel-liver",
   "metadata": {},
   "outputs": [],
   "source": []
  }
 ],
 "metadata": {
  "kernelspec": {
   "display_name": "Python 3",
   "language": "python",
   "name": "python3"
  },
  "language_info": {
   "codemirror_mode": {
    "name": "ipython",
    "version": 3
   },
   "file_extension": ".py",
   "mimetype": "text/x-python",
   "name": "python",
   "nbconvert_exporter": "python",
   "pygments_lexer": "ipython3",
   "version": "3.8.8"
  }
 },
 "nbformat": 4,
 "nbformat_minor": 5
}
